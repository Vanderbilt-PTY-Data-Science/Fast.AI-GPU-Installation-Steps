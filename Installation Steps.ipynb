{
 "cells": [
  {
   "cell_type": "markdown",
   "id": "62588aec",
   "metadata": {},
   "source": [
    "# Installation Instructions for Fast.AI\n",
    "\n",
    "If you are running into issues where Fast.AI is training extremely slowly on your computer, ie: 5 minutes on the cats dataset provided by the tutorial, you are probably running Fast.AI on your CPU. In this tutorial, I'll teach you how to link your GPU to Fast.AI."
   ]
  },
  {
   "cell_type": "markdown",
   "id": "00999258",
   "metadata": {},
   "source": [
    "## Step 1\n",
    "\n",
    "The first thing to do is to make sure your conda is cleared of current PyTorch packages, as Fast.AI probably installed PyTorch without CUDA. To do this, first install `anaconda-clean` with `conda install anaconda-clean`. Then run `anaconda-clean` and prompt `y` to clean your data. Next if you are on Windows, head over to Control Panel, and uninstall Anaconda there. Otherwise, you should find the Anaconda Uninstaller and use that."
   ]
  },
  {
   "cell_type": "markdown",
   "id": "36c48254",
   "metadata": {},
   "source": [
    "## Step 2\n",
    "\n",
    "After uninstalling, make sure to reinstall anaconda from [here](https://www.anaconda.com/products/individual#Downloads).\n",
    "\n",
    "Next install PyTorch compiled with CUDA with `conda install pytorch torchvision torchaudio cudatoolkit=11.1 -c pytorch -c conda-forge`.\n",
    "\n",
    "After installing PyTorch, run `pip install fastai`, and you are set to use Fast.AI with GPU.\n",
    "\n",
    "To check if your GPU has been successfully linked, run the code below."
   ]
  },
  {
   "cell_type": "code",
   "execution_count": 1,
   "id": "fffc6c9a",
   "metadata": {},
   "outputs": [
    {
     "data": {
      "text/plain": [
       "'NVIDIA GeForce RTX 2060'"
      ]
     },
     "execution_count": 1,
     "metadata": {},
     "output_type": "execute_result"
    }
   ],
   "source": [
    "import torch\n",
    "\n",
    "torch.cuda.get_device_name(0)"
   ]
  },
  {
   "cell_type": "markdown",
   "id": "51e744a5",
   "metadata": {},
   "source": [
    "Now you can run your Fast.AI notebooks with GPU linked, which will significantly speed up the training process!"
   ]
  }
 ],
 "metadata": {
  "kernelspec": {
   "display_name": "Python 3",
   "language": "python",
   "name": "python3"
  },
  "language_info": {
   "codemirror_mode": {
    "name": "ipython",
    "version": 3
   },
   "file_extension": ".py",
   "mimetype": "text/x-python",
   "name": "python",
   "nbconvert_exporter": "python",
   "pygments_lexer": "ipython3",
   "version": "3.8.8"
  }
 },
 "nbformat": 4,
 "nbformat_minor": 5
}
